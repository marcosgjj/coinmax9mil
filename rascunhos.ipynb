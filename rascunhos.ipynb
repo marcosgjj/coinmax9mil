{
 "cells": [
  {
   "cell_type": "markdown",
   "metadata": {},
   "source": []
  },
  {
   "cell_type": "markdown",
   "metadata": {},
   "source": [
    "# APIS para cotação de Criptomoedas\n",
    "\n",
    "[CriptoCompare](https://min-api.cryptocompare.com/documentation)\n",
    "\n",
    "[ConMarketCap](https://coinmarketcap.com/api/documentation/v1/)\n",
    "\n",
    "[CoinApi](https://docs.coinapi.io/#md-docs)"
   ]
  }
 ],
 "metadata": {
  "kernelspec": {
   "display_name": "Python 3.10.5 ('.venv': venv)",
   "language": "python",
   "name": "python3"
  },
  "language_info": {
   "codemirror_mode": {
    "name": "ipython",
    "version": 3
   },
   "file_extension": ".py",
   "mimetype": "text/x-python",
   "name": "python",
   "nbconvert_exporter": "python",
   "pygments_lexer": "ipython3",
   "version": "3.10.5"
  },
  "orig_nbformat": 4,
  "vscode": {
   "interpreter": {
    "hash": "398a91f93c726e57edabf93560462f30aaa726f5193ee7ab47f05de8d4c5763f"
   }
  }
 },
 "nbformat": 4,
 "nbformat_minor": 2
}
