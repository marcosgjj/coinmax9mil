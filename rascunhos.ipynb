{
 "cells": [
  {
   "cell_type": "markdown",
   "metadata": {},
   "source": []
  },
  {
   "cell_type": "markdown",
   "metadata": {},
   "source": [
    "# APIS para cotação de Criptomoedas\n",
    "\n",
    "[CriptoCompare](https://min-api.cryptocompare.com/documentation)\n",
    "\n",
    "[ConMarketCap](https://coinmarketcap.com/api/documentation/v1/)\n",
    "\n",
    "[CoinApi](https://docs.coinapi.io/#md-docs)"
   ]
  },
  {
   "cell_type": "markdown",
   "metadata": {},
   "source": [
    "---\n",
    "\n",
    "# TESTANDO CONSUMO DE API\n",
    "\n",
    "---"
   ]
  },
  {
   "cell_type": "markdown",
   "metadata": {},
   "source": [
    "Função que importa o arquivo com a chave da Api e quarda em uma variavel."
   ]
  },
  {
   "cell_type": "code",
   "execution_count": 31,
   "metadata": {},
   "outputs": [
    {
     "name": "stdout",
     "output_type": "stream",
     "text": [
      "e2fd112ffaf6388810cb1d315ad76a3093d2a28e1a7b0135060f30ef89207b1f\n",
      "\n"
     ]
    }
   ],
   "source": [
    "def importKey(file):\n",
    "    fileKey = open(file)\n",
    "    key = fileKey.readline()\n",
    "    fileKey.close()\n",
    "    \n",
    "    return key\n"
   ]
  },
  {
   "cell_type": "markdown",
   "metadata": {},
   "source": [
    "Função que faz requisição http na criptoCompare e retorna a resposta."
   ]
  },
  {
   "cell_type": "code",
   "execution_count": 34,
   "metadata": {},
   "outputs": [],
   "source": [
    "def criptoCompare(apiKey, fsym, tsyms):\n",
    "    return requests.get(f\"https://min-api.cryptocompare.com/data/price?fsym={fsym}&tsyms={tsyms}&api_key={apiKey}\")"
   ]
  },
  {
   "cell_type": "markdown",
   "metadata": {},
   "source": [
    "---"
   ]
  },
  {
   "cell_type": "code",
   "execution_count": 35,
   "metadata": {},
   "outputs": [
    {
     "name": "stdout",
     "output_type": "stream",
     "text": [
      "e2fd112ffaf6388810cb1d315ad76a3093d2a28e1a7b0135060f30ef89207b1f\n",
      "\n",
      "Bitcoin: b'{\"USD\":23276.21}'\n",
      "Ethereum: b'{\"USD\":1710.75}'\n",
      "BNB: b'{\"USD\":319.13}'\n",
      "XRP: b'{\"USD\":0.3692}'\n"
     ]
    }
   ],
   "source": [
    "import requests\n",
    "\n",
    "apiKey = importKey(\"apiKey.key\")\n",
    "\n",
    "bitcoin = criptoCompare(apiKey, fsym=\"BTC\", tsyms=\"USD\")\n",
    "ethereum = criptoCompare(apiKey, fsym=\"ETH\", tsyms=\"USD\")\n",
    "bnb = criptoCompare(apiKey, fsym=\"BNB\", tsyms=\"USD\")\n",
    "xrp = criptoCompare(apiKey, fsym=\"XRP\", tsyms=\"USD\")\n",
    "\n",
    "print(f\"Bitcoin: {bitcoin.content}\")\n",
    "print(f\"Ethereum: {ethereum.content}\")\n",
    "print(f\"BNB: {bnb.content}\")\n",
    "print(f\"XRP: {xrp.content}\")\n",
    "\n"
   ]
  }
 ],
 "metadata": {
  "kernelspec": {
   "display_name": "Python 3.10.5 ('.venv': venv)",
   "language": "python",
   "name": "python3"
  },
  "language_info": {
   "codemirror_mode": {
    "name": "ipython",
    "version": 3
   },
   "file_extension": ".py",
   "mimetype": "text/x-python",
   "name": "python",
   "nbconvert_exporter": "python",
   "pygments_lexer": "ipython3",
   "version": "3.10.5"
  },
  "orig_nbformat": 4,
  "vscode": {
   "interpreter": {
    "hash": "398a91f93c726e57edabf93560462f30aaa726f5193ee7ab47f05de8d4c5763f"
   }
  }
 },
 "nbformat": 4,
 "nbformat_minor": 2
}
